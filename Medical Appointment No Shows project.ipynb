{
 "cells": [
  {
   "cell_type": "markdown",
   "metadata": {},
   "source": [
    "\n",
    "# Project: Investigating Medical Appointments No Shows\n",
    "\n",
    "## Table of Contents\n",
    "<ul>\n",
    "<li><a href=\"#intro\">Introduction</a></li>\n",
    "<li><a href=\"#wrangling\">Data Wrangling</a></li>\n",
    "<li><a href=\"#eda\">Exploratory Data Analysis</a></li>\n",
    "<li><a href=\"#conclusions\">Conclusions</a></li>\n",
    "</ul>"
   ]
  },
  {
   "cell_type": "markdown",
   "metadata": {},
   "source": [
    "<a id='intro'></a>\n",
    "## Introduction\n",
    "\n",
    "> In this project, we will investigate a dataset that contains information on 100k medical appointments in Brazil, which will provide us with insight into whether or not patients attend their appointments.\n",
    "\n"
   ]
  },
  {
   "cell_type": "code",
   "execution_count": 116,
   "metadata": {},
   "outputs": [],
   "source": [
    "# Importing packages we are going to use throughout the project.\n",
    "\n",
    "import pandas as pd\n",
    "import matplotlib.pyplot as plt\n",
    "import numpy as np\n",
    "\n",
    "%matplotlib inline\n"
   ]
  },
  {
   "cell_type": "markdown",
   "metadata": {},
   "source": [
    "<a id='wrangling'></a>\n",
    "## Data Wrangling\n",
    "\n",
    "In this section of the report, we  will load in the data, check for cleanliness, and then trim and clean our dataset for analysis. \n",
    "\n"
   ]
  },
  {
   "cell_type": "code",
   "execution_count": 117,
   "metadata": {},
   "outputs": [
    {
     "data": {
      "text/html": [
       "<div>\n",
       "<style scoped>\n",
       "    .dataframe tbody tr th:only-of-type {\n",
       "        vertical-align: middle;\n",
       "    }\n",
       "\n",
       "    .dataframe tbody tr th {\n",
       "        vertical-align: top;\n",
       "    }\n",
       "\n",
       "    .dataframe thead th {\n",
       "        text-align: right;\n",
       "    }\n",
       "</style>\n",
       "<table border=\"1\" class=\"dataframe\">\n",
       "  <thead>\n",
       "    <tr style=\"text-align: right;\">\n",
       "      <th></th>\n",
       "      <th>PatientId</th>\n",
       "      <th>AppointmentID</th>\n",
       "      <th>Gender</th>\n",
       "      <th>ScheduledDay</th>\n",
       "      <th>AppointmentDay</th>\n",
       "      <th>Age</th>\n",
       "      <th>Neighbourhood</th>\n",
       "      <th>Scholarship</th>\n",
       "      <th>Hipertension</th>\n",
       "      <th>Diabetes</th>\n",
       "      <th>Alcoholism</th>\n",
       "      <th>Handcap</th>\n",
       "      <th>SMS_received</th>\n",
       "      <th>No-show</th>\n",
       "    </tr>\n",
       "  </thead>\n",
       "  <tbody>\n",
       "    <tr>\n",
       "      <th>0</th>\n",
       "      <td>2.987250e+13</td>\n",
       "      <td>5642903</td>\n",
       "      <td>F</td>\n",
       "      <td>2016-04-29T18:38:08Z</td>\n",
       "      <td>2016-04-29T00:00:00Z</td>\n",
       "      <td>62</td>\n",
       "      <td>JARDIM DA PENHA</td>\n",
       "      <td>0</td>\n",
       "      <td>1</td>\n",
       "      <td>0</td>\n",
       "      <td>0</td>\n",
       "      <td>0</td>\n",
       "      <td>0</td>\n",
       "      <td>No</td>\n",
       "    </tr>\n",
       "    <tr>\n",
       "      <th>1</th>\n",
       "      <td>5.589978e+14</td>\n",
       "      <td>5642503</td>\n",
       "      <td>M</td>\n",
       "      <td>2016-04-29T16:08:27Z</td>\n",
       "      <td>2016-04-29T00:00:00Z</td>\n",
       "      <td>56</td>\n",
       "      <td>JARDIM DA PENHA</td>\n",
       "      <td>0</td>\n",
       "      <td>0</td>\n",
       "      <td>0</td>\n",
       "      <td>0</td>\n",
       "      <td>0</td>\n",
       "      <td>0</td>\n",
       "      <td>No</td>\n",
       "    </tr>\n",
       "    <tr>\n",
       "      <th>2</th>\n",
       "      <td>4.262962e+12</td>\n",
       "      <td>5642549</td>\n",
       "      <td>F</td>\n",
       "      <td>2016-04-29T16:19:04Z</td>\n",
       "      <td>2016-04-29T00:00:00Z</td>\n",
       "      <td>62</td>\n",
       "      <td>MATA DA PRAIA</td>\n",
       "      <td>0</td>\n",
       "      <td>0</td>\n",
       "      <td>0</td>\n",
       "      <td>0</td>\n",
       "      <td>0</td>\n",
       "      <td>0</td>\n",
       "      <td>No</td>\n",
       "    </tr>\n",
       "    <tr>\n",
       "      <th>3</th>\n",
       "      <td>8.679512e+11</td>\n",
       "      <td>5642828</td>\n",
       "      <td>F</td>\n",
       "      <td>2016-04-29T17:29:31Z</td>\n",
       "      <td>2016-04-29T00:00:00Z</td>\n",
       "      <td>8</td>\n",
       "      <td>PONTAL DE CAMBURI</td>\n",
       "      <td>0</td>\n",
       "      <td>0</td>\n",
       "      <td>0</td>\n",
       "      <td>0</td>\n",
       "      <td>0</td>\n",
       "      <td>0</td>\n",
       "      <td>No</td>\n",
       "    </tr>\n",
       "    <tr>\n",
       "      <th>4</th>\n",
       "      <td>8.841186e+12</td>\n",
       "      <td>5642494</td>\n",
       "      <td>F</td>\n",
       "      <td>2016-04-29T16:07:23Z</td>\n",
       "      <td>2016-04-29T00:00:00Z</td>\n",
       "      <td>56</td>\n",
       "      <td>JARDIM DA PENHA</td>\n",
       "      <td>0</td>\n",
       "      <td>1</td>\n",
       "      <td>1</td>\n",
       "      <td>0</td>\n",
       "      <td>0</td>\n",
       "      <td>0</td>\n",
       "      <td>No</td>\n",
       "    </tr>\n",
       "  </tbody>\n",
       "</table>\n",
       "</div>"
      ],
      "text/plain": [
       "      PatientId  AppointmentID Gender          ScheduledDay  \\\n",
       "0  2.987250e+13        5642903      F  2016-04-29T18:38:08Z   \n",
       "1  5.589978e+14        5642503      M  2016-04-29T16:08:27Z   \n",
       "2  4.262962e+12        5642549      F  2016-04-29T16:19:04Z   \n",
       "3  8.679512e+11        5642828      F  2016-04-29T17:29:31Z   \n",
       "4  8.841186e+12        5642494      F  2016-04-29T16:07:23Z   \n",
       "\n",
       "         AppointmentDay  Age      Neighbourhood  Scholarship  Hipertension  \\\n",
       "0  2016-04-29T00:00:00Z   62    JARDIM DA PENHA            0             1   \n",
       "1  2016-04-29T00:00:00Z   56    JARDIM DA PENHA            0             0   \n",
       "2  2016-04-29T00:00:00Z   62      MATA DA PRAIA            0             0   \n",
       "3  2016-04-29T00:00:00Z    8  PONTAL DE CAMBURI            0             0   \n",
       "4  2016-04-29T00:00:00Z   56    JARDIM DA PENHA            0             1   \n",
       "\n",
       "   Diabetes  Alcoholism  Handcap  SMS_received No-show  \n",
       "0         0           0        0             0      No  \n",
       "1         0           0        0             0      No  \n",
       "2         0           0        0             0      No  \n",
       "3         0           0        0             0      No  \n",
       "4         1           0        0             0      No  "
      ]
     },
     "execution_count": 117,
     "metadata": {},
     "output_type": "execute_result"
    }
   ],
   "source": [
    "# Loading data and printing out the first 5 lines of the dataset\n",
    "\n",
    "df = pd.read_csv('noshowappointments-kagglev2-may-2016.csv')\n",
    "\n",
    "df.head()\n"
   ]
  },
  {
   "cell_type": "markdown",
   "metadata": {},
   "source": [
    "\n",
    "\n",
    "### Data Cleaning "
   ]
  },
  {
   "cell_type": "markdown",
   "metadata": {
    "collapsed": true
   },
   "source": [
    "\n",
    "> We will start our data cleaning process by checking the columns and its attributes. Also, we will check if we have any null values in the datasets.\n",
    "\n",
    "\n",
    "\n",
    "\n"
   ]
  },
  {
   "cell_type": "code",
   "execution_count": 118,
   "metadata": {},
   "outputs": [
    {
     "data": {
      "text/plain": [
       "Index(['Patient_ID', 'Appointment_ID', 'Gender', 'Scheduled_day',\n",
       "       'Appointment_day', 'Age', 'Neighbourhood', 'Scholarship',\n",
       "       'Hipertension', 'Diabetes', 'Alcoholism', 'Handicap', 'SMS_received',\n",
       "       'No_Show'],\n",
       "      dtype='object')"
      ]
     },
     "execution_count": 118,
     "metadata": {},
     "output_type": "execute_result"
    }
   ],
   "source": [
    "# Following Snake case convention for all columns names:\n",
    "\n",
    "df.rename(columns={'PatientId':'Patient_ID', 'ScheduledDay':'Scheduled_day',\n",
    "                   'AppointmentDay':'Appointment_day','AppointmentID':'Appointment_ID',\n",
    "                   'SMS_received':'SMS_received','Handcap':'Handicap', 'No-show': 'No_Show'}, inplace=True)\n",
    "\n",
    "df.columns\n",
    "                   "
   ]
  },
  {
   "cell_type": "code",
   "execution_count": 119,
   "metadata": {},
   "outputs": [
    {
     "name": "stdout",
     "output_type": "stream",
     "text": [
      "<bound method NDFrame.describe of           Patient_ID  Appointment_ID Gender         Scheduled_day  \\\n",
      "0       2.987250e+13         5642903      F  2016-04-29T18:38:08Z   \n",
      "1       5.589978e+14         5642503      M  2016-04-29T16:08:27Z   \n",
      "2       4.262962e+12         5642549      F  2016-04-29T16:19:04Z   \n",
      "3       8.679512e+11         5642828      F  2016-04-29T17:29:31Z   \n",
      "4       8.841186e+12         5642494      F  2016-04-29T16:07:23Z   \n",
      "...              ...             ...    ...                   ...   \n",
      "110522  2.572134e+12         5651768      F  2016-05-03T09:15:35Z   \n",
      "110523  3.596266e+12         5650093      F  2016-05-03T07:27:33Z   \n",
      "110524  1.557663e+13         5630692      F  2016-04-27T16:03:52Z   \n",
      "110525  9.213493e+13         5630323      F  2016-04-27T15:09:23Z   \n",
      "110526  3.775115e+14         5629448      F  2016-04-27T13:30:56Z   \n",
      "\n",
      "             Appointment_day  Age      Neighbourhood  Scholarship  \\\n",
      "0       2016-04-29T00:00:00Z   62    JARDIM DA PENHA            0   \n",
      "1       2016-04-29T00:00:00Z   56    JARDIM DA PENHA            0   \n",
      "2       2016-04-29T00:00:00Z   62      MATA DA PRAIA            0   \n",
      "3       2016-04-29T00:00:00Z    8  PONTAL DE CAMBURI            0   \n",
      "4       2016-04-29T00:00:00Z   56    JARDIM DA PENHA            0   \n",
      "...                      ...  ...                ...          ...   \n",
      "110522  2016-06-07T00:00:00Z   56        MARIA ORTIZ            0   \n",
      "110523  2016-06-07T00:00:00Z   51        MARIA ORTIZ            0   \n",
      "110524  2016-06-07T00:00:00Z   21        MARIA ORTIZ            0   \n",
      "110525  2016-06-07T00:00:00Z   38        MARIA ORTIZ            0   \n",
      "110526  2016-06-07T00:00:00Z   54        MARIA ORTIZ            0   \n",
      "\n",
      "        Hipertension  Diabetes  Alcoholism  Handicap  SMS_received No_Show  \n",
      "0                  1         0           0         0             0      No  \n",
      "1                  0         0           0         0             0      No  \n",
      "2                  0         0           0         0             0      No  \n",
      "3                  0         0           0         0             0      No  \n",
      "4                  1         1           0         0             0      No  \n",
      "...              ...       ...         ...       ...           ...     ...  \n",
      "110522             0         0           0         0             1      No  \n",
      "110523             0         0           0         0             1      No  \n",
      "110524             0         0           0         0             1      No  \n",
      "110525             0         0           0         0             1      No  \n",
      "110526             0         0           0         0             1      No  \n",
      "\n",
      "[110527 rows x 14 columns]>\n",
      "<class 'pandas.core.frame.DataFrame'>\n",
      "RangeIndex: 110527 entries, 0 to 110526\n",
      "Data columns (total 14 columns):\n",
      " #   Column           Non-Null Count   Dtype  \n",
      "---  ------           --------------   -----  \n",
      " 0   Patient_ID       110527 non-null  float64\n",
      " 1   Appointment_ID   110527 non-null  int64  \n",
      " 2   Gender           110527 non-null  object \n",
      " 3   Scheduled_day    110527 non-null  object \n",
      " 4   Appointment_day  110527 non-null  object \n",
      " 5   Age              110527 non-null  int64  \n",
      " 6   Neighbourhood    110527 non-null  object \n",
      " 7   Scholarship      110527 non-null  int64  \n",
      " 8   Hipertension     110527 non-null  int64  \n",
      " 9   Diabetes         110527 non-null  int64  \n",
      " 10  Alcoholism       110527 non-null  int64  \n",
      " 11  Handicap         110527 non-null  int64  \n",
      " 12  SMS_received     110527 non-null  int64  \n",
      " 13  No_Show          110527 non-null  object \n",
      "dtypes: float64(1), int64(8), object(5)\n",
      "memory usage: 11.8+ MB\n",
      "None\n",
      "(110527, 14)\n"
     ]
    }
   ],
   "source": [
    "# Exploring the datset further\n",
    "\n",
    "print(df.describe)\n",
    "print(df.info())\n",
    "print(df.shape)\n"
   ]
  },
  {
   "cell_type": "markdown",
   "metadata": {},
   "source": [
    "> We have 110527 rows in the dataset with 14 columns. Most of columns are originally stored as numerical values whether they are integers or floats. Also, It seems that we dont have any null values in the dataset."
   ]
  },
  {
   "cell_type": "markdown",
   "metadata": {},
   "source": [
    "> We continue to investigate the columns and check for its dataypes and if there are any duplicates\n",
    ">> Passing by every column to make sure that its in the correct format and have a look on its values:"
   ]
  },
  {
   "cell_type": "code",
   "execution_count": 142,
   "metadata": {},
   "outputs": [
    {
     "name": "stdout",
     "output_type": "stream",
     "text": [
      "The number of unique Patient IDs is:  62190\n",
      "The IDs of the patients can be summarized as follows:  822145925426128    88\n",
      "99637671331        84\n",
      "26886125921145     70\n",
      "33534783483176     65\n",
      "871374938638855    62\n",
      "                   ..\n",
      "37589497678822      1\n",
      "31638467315         1\n",
      "89279955685         1\n",
      "5883897911366       1\n",
      "57863365759569      1\n",
      "Name: Patient_ID, Length: 62190, dtype: int64\n",
      "The IDs of the appointments can be summarized as follows:  5769215    1\n",
      "5616924    1\n",
      "5614879    1\n",
      "5782829    1\n",
      "5776686    1\n",
      "          ..\n",
      "5711153    1\n",
      "5717298    1\n",
      "5709110    1\n",
      "5707063    1\n",
      "5771266    1\n",
      "Name: Appointment_ID, Length: 110327, dtype: int64\n"
     ]
    }
   ],
   "source": [
    "\n",
    "#Exploring the number of the unique values:\n",
    "\n",
    "print('The number of unique Patient IDs is: ' , df['Patient_ID'].nunique())\n",
    "\n",
    "# There is no reason to have Patient_ID column as float values as its used for identification\n",
    "# So will change the type to int:\n",
    "\n",
    "df['Patient_ID'] = df.Patient_ID.astype('int64')\n",
    "\n",
    "# Setting the Appointment ID column as string as well:\n",
    "\n",
    "df['Appointment_ID'] = df.Appointment_ID.astype('int64')\n",
    "\n",
    "\n",
    "# Summary of the IDs columns values:\n",
    "print('The IDs of the patients can be summarized as follows: ' , df['Patient_ID'].value_counts()) \n",
    "print('The IDs of the appointments can be summarized as follows: ' , df['Appointment_ID'].value_counts())\n",
    "\n",
    "\n",
    "\n"
   ]
  },
  {
   "cell_type": "code",
   "execution_count": 141,
   "metadata": {},
   "outputs": [],
   "source": [
    "# For the scheduled day, We will change the format to date time format:\n",
    "\n",
    "df.Scheduled_day = pd.to_datetime(df['Scheduled_day'])\n",
    "\n",
    "# The same for Appointment_day as well as Scheduled day column:\n",
    "\n",
    "df.Appointment_day = pd.to_datetime(df['Appointment_day'])\n",
    "\n",
    "\n",
    "\n"
   ]
  },
  {
   "cell_type": "code",
   "execution_count": 122,
   "metadata": {},
   "outputs": [
    {
     "data": {
      "text/plain": [
       "F    71840\n",
       "M    38687\n",
       "Name: Gender, dtype: int64"
      ]
     },
     "execution_count": 122,
     "metadata": {},
     "output_type": "execute_result"
    }
   ],
   "source": [
    "# For Gender column:\n",
    "\n",
    "df.Gender.value_counts() # The majority is for females as we can clearly see."
   ]
  },
  {
   "cell_type": "code",
   "execution_count": 140,
   "metadata": {},
   "outputs": [
    {
     "name": "stdout",
     "output_type": "stream",
     "text": [
      "The values of the Age column are as follows:  [  0   1   2   3   4   5   6   7   8   9  10  11  12  13  14  15  16  17\n",
      "  18  19  20  21  22  23  24  25  26  27  28  29  30  31  32  33  34  35\n",
      "  36  37  38  39  40  41  42  43  44  45  46  47  48  49  50  51  52  53\n",
      "  54  55  56  57  58  59  60  61  62  63  64  65  66  67  68  69  70  71\n",
      "  72  73  74  75  76  77  78  79  80  81  82  83  84  85  86  87  88  89\n",
      "  90  91  92  93  94  95  96  97  98  99 100 102 115]\n"
     ]
    }
   ],
   "source": [
    "# For the age column, we check its unique values:\n",
    "\n",
    "df['Age'].value_counts()\n",
    "\n",
    "# We notice that we has some strange values inserted for the age column like -1 and 115.\n",
    "# We will consider the patients with Age equals to 0 as babies.\n",
    "# The single row which has age equals to 1 will be dropped, considering it as a typo.\n",
    "\n",
    "\n",
    "\n",
    "df.drop(df[df['Age']==-1].index, inplace=True)\n",
    "\n",
    "print('The values of the Age column are as follows: ', np.sort(df['Age'].unique()))\n",
    "\n",
    "\n",
    "\n"
   ]
  },
  {
   "cell_type": "code",
   "execution_count": 139,
   "metadata": {},
   "outputs": [
    {
     "name": "stdout",
     "output_type": "stream",
     "text": [
      "The median age for females is:  39.0\n",
      "The median age for males is:  33.0\n"
     ]
    }
   ],
   "source": [
    "df.Age.describe() \n",
    "# The mean age for the all of patients is 37 years\n",
    "\n",
    "print('The median age for females is: ', df.query('Gender == \"F\"')['Age'].median())\n",
    "print('The median age for males is: ', df.query('Gender == \"M\"')['Age'].median())\n"
   ]
  },
  {
   "cell_type": "code",
   "execution_count": 138,
   "metadata": {},
   "outputs": [
    {
     "name": "stdout",
     "output_type": "stream",
     "text": [
      "The number of neighboorhoods is:  81\n"
     ]
    }
   ],
   "source": [
    "# Exploring the neighborhood column:\n",
    "\n",
    "print('The number of neighboorhoods is: ', df.Neighbourhood.nunique())"
   ]
  },
  {
   "cell_type": "code",
   "execution_count": 124,
   "metadata": {},
   "outputs": [
    {
     "name": "stdout",
     "output_type": "stream",
     "text": [
      "0    99666\n",
      "1    10861\n",
      "Name: Scholarship, dtype: int64\n",
      "0    88726\n",
      "1    21801\n",
      "Name: Hipertension, dtype: int64\n",
      "0    102584\n",
      "1      7943\n",
      "Name: Diabetes, dtype: int64\n",
      "0    107167\n",
      "1      3360\n",
      "Name: Alcoholism, dtype: int64\n",
      "0    108286\n",
      "1      2042\n",
      "2       183\n",
      "3        13\n",
      "4         3\n",
      "Name: Handicap, dtype: int64\n"
     ]
    },
    {
     "data": {
      "text/plain": [
       "0    108286\n",
       "1      2042\n",
       "Name: Handicap, dtype: int64"
      ]
     },
     "execution_count": 124,
     "metadata": {},
     "output_type": "execute_result"
    }
   ],
   "source": [
    "# Exploring Scholarship column:\n",
    "\n",
    "print(df.Scholarship.value_counts())\n",
    "\n",
    "# Exploring Hipertension column:\n",
    "\n",
    "print(df.Hipertension.value_counts())\n",
    "\n",
    "# Exploring Diabetes column:\n",
    "\n",
    "print(df.Diabetes.value_counts())\n",
    "\n",
    "# Exploring Alcoholism column:\n",
    "\n",
    "print(df.Alcoholism.value_counts())\n",
    "\n",
    "# Exploring Handicap column:\n",
    "\n",
    "print(df.Handicap.value_counts())\n",
    "\n",
    "# We have a pickle here as Handicap columns consists of [0,1,2,3,4] values which somehow confusing as\n",
    "# 0 should be corresponding to false and 1 to True (Handicapped patients)\n",
    "# The 2,3 and 4 values will be assumed as mistakes in the data\n",
    "# So we will drop the rows with Handicap value > 1.\n",
    "\n",
    "df.drop(df[df['Handicap'] > 1].index, inplace=True)\n",
    "\n",
    "df.Handicap.value_counts()\n",
    "\n",
    "\n"
   ]
  },
  {
   "cell_type": "code",
   "execution_count": 125,
   "metadata": {
    "scrolled": true
   },
   "outputs": [
    {
     "name": "stdout",
     "output_type": "stream",
     "text": [
      "0    74893\n",
      "1    35435\n",
      "Name: SMS_received, dtype: int64\n"
     ]
    },
    {
     "data": {
      "text/plain": [
       "No     88050\n",
       "Yes    22278\n",
       "Name: No_Show, dtype: int64"
      ]
     },
     "execution_count": 125,
     "metadata": {},
     "output_type": "execute_result"
    }
   ],
   "source": [
    "# Exploring the SMS received column:\n",
    "\n",
    "print(df.SMS_received.value_counts())\n",
    "\n",
    "# Exploring the No-show column:\n",
    "\n",
    "df.No_Show.value_counts()"
   ]
  },
  {
   "cell_type": "code",
   "execution_count": 126,
   "metadata": {},
   "outputs": [
    {
     "data": {
      "text/html": [
       "<div>\n",
       "<style scoped>\n",
       "    .dataframe tbody tr th:only-of-type {\n",
       "        vertical-align: middle;\n",
       "    }\n",
       "\n",
       "    .dataframe tbody tr th {\n",
       "        vertical-align: top;\n",
       "    }\n",
       "\n",
       "    .dataframe thead th {\n",
       "        text-align: right;\n",
       "    }\n",
       "</style>\n",
       "<table border=\"1\" class=\"dataframe\">\n",
       "  <thead>\n",
       "    <tr style=\"text-align: right;\">\n",
       "      <th></th>\n",
       "      <th>Patient_ID</th>\n",
       "      <th>Appointment_ID</th>\n",
       "      <th>Gender</th>\n",
       "      <th>Scheduled_day</th>\n",
       "      <th>Appointment_day</th>\n",
       "      <th>Age</th>\n",
       "      <th>Neighbourhood</th>\n",
       "      <th>Scholarship</th>\n",
       "      <th>Hipertension</th>\n",
       "      <th>Diabetes</th>\n",
       "      <th>Alcoholism</th>\n",
       "      <th>Handicap</th>\n",
       "      <th>SMS_received</th>\n",
       "      <th>No_Show</th>\n",
       "    </tr>\n",
       "  </thead>\n",
       "  <tbody>\n",
       "    <tr>\n",
       "      <th>0</th>\n",
       "      <td>29872499824296</td>\n",
       "      <td>5642903</td>\n",
       "      <td>F</td>\n",
       "      <td>2016-04-29 18:38:08+00:00</td>\n",
       "      <td>2016-04-29 00:00:00+00:00</td>\n",
       "      <td>62</td>\n",
       "      <td>JARDIM DA PENHA</td>\n",
       "      <td>0</td>\n",
       "      <td>1</td>\n",
       "      <td>0</td>\n",
       "      <td>0</td>\n",
       "      <td>0</td>\n",
       "      <td>0</td>\n",
       "      <td>No</td>\n",
       "    </tr>\n",
       "    <tr>\n",
       "      <th>1</th>\n",
       "      <td>558997776694438</td>\n",
       "      <td>5642503</td>\n",
       "      <td>M</td>\n",
       "      <td>2016-04-29 16:08:27+00:00</td>\n",
       "      <td>2016-04-29 00:00:00+00:00</td>\n",
       "      <td>56</td>\n",
       "      <td>JARDIM DA PENHA</td>\n",
       "      <td>0</td>\n",
       "      <td>0</td>\n",
       "      <td>0</td>\n",
       "      <td>0</td>\n",
       "      <td>0</td>\n",
       "      <td>0</td>\n",
       "      <td>No</td>\n",
       "    </tr>\n",
       "    <tr>\n",
       "      <th>2</th>\n",
       "      <td>4262962299951</td>\n",
       "      <td>5642549</td>\n",
       "      <td>F</td>\n",
       "      <td>2016-04-29 16:19:04+00:00</td>\n",
       "      <td>2016-04-29 00:00:00+00:00</td>\n",
       "      <td>62</td>\n",
       "      <td>MATA DA PRAIA</td>\n",
       "      <td>0</td>\n",
       "      <td>0</td>\n",
       "      <td>0</td>\n",
       "      <td>0</td>\n",
       "      <td>0</td>\n",
       "      <td>0</td>\n",
       "      <td>No</td>\n",
       "    </tr>\n",
       "    <tr>\n",
       "      <th>3</th>\n",
       "      <td>867951213174</td>\n",
       "      <td>5642828</td>\n",
       "      <td>F</td>\n",
       "      <td>2016-04-29 17:29:31+00:00</td>\n",
       "      <td>2016-04-29 00:00:00+00:00</td>\n",
       "      <td>8</td>\n",
       "      <td>PONTAL DE CAMBURI</td>\n",
       "      <td>0</td>\n",
       "      <td>0</td>\n",
       "      <td>0</td>\n",
       "      <td>0</td>\n",
       "      <td>0</td>\n",
       "      <td>0</td>\n",
       "      <td>No</td>\n",
       "    </tr>\n",
       "    <tr>\n",
       "      <th>4</th>\n",
       "      <td>8841186448183</td>\n",
       "      <td>5642494</td>\n",
       "      <td>F</td>\n",
       "      <td>2016-04-29 16:07:23+00:00</td>\n",
       "      <td>2016-04-29 00:00:00+00:00</td>\n",
       "      <td>56</td>\n",
       "      <td>JARDIM DA PENHA</td>\n",
       "      <td>0</td>\n",
       "      <td>1</td>\n",
       "      <td>1</td>\n",
       "      <td>0</td>\n",
       "      <td>0</td>\n",
       "      <td>0</td>\n",
       "      <td>No</td>\n",
       "    </tr>\n",
       "  </tbody>\n",
       "</table>\n",
       "</div>"
      ],
      "text/plain": [
       "        Patient_ID  Appointment_ID Gender             Scheduled_day  \\\n",
       "0   29872499824296         5642903      F 2016-04-29 18:38:08+00:00   \n",
       "1  558997776694438         5642503      M 2016-04-29 16:08:27+00:00   \n",
       "2    4262962299951         5642549      F 2016-04-29 16:19:04+00:00   \n",
       "3     867951213174         5642828      F 2016-04-29 17:29:31+00:00   \n",
       "4    8841186448183         5642494      F 2016-04-29 16:07:23+00:00   \n",
       "\n",
       "            Appointment_day  Age      Neighbourhood  Scholarship  \\\n",
       "0 2016-04-29 00:00:00+00:00   62    JARDIM DA PENHA            0   \n",
       "1 2016-04-29 00:00:00+00:00   56    JARDIM DA PENHA            0   \n",
       "2 2016-04-29 00:00:00+00:00   62      MATA DA PRAIA            0   \n",
       "3 2016-04-29 00:00:00+00:00    8  PONTAL DE CAMBURI            0   \n",
       "4 2016-04-29 00:00:00+00:00   56    JARDIM DA PENHA            0   \n",
       "\n",
       "   Hipertension  Diabetes  Alcoholism  Handicap  SMS_received No_Show  \n",
       "0             1         0           0         0             0      No  \n",
       "1             0         0           0         0             0      No  \n",
       "2             0         0           0         0             0      No  \n",
       "3             0         0           0         0             0      No  \n",
       "4             1         1           0         0             0      No  "
      ]
     },
     "execution_count": 126,
     "metadata": {},
     "output_type": "execute_result"
    }
   ],
   "source": [
    "df.head() # Another look of our dataset"
   ]
  },
  {
   "cell_type": "markdown",
   "metadata": {},
   "source": [
    "<a id='eda'></a>\n",
    "## Exploratory Data Analysis\n",
    "\n",
    "> Now as we executed our data cleaning, We will start to analyze the data we have to answer some questions based on the the visualizations/data we have.\n",
    "\n",
    "> But first, we will create a new dataframe out of our dataset which just have the patients who showed up to their appointments\n",
    "\n",
    "\n"
   ]
  },
  {
   "cell_type": "code",
   "execution_count": 127,
   "metadata": {},
   "outputs": [
    {
     "name": "stdout",
     "output_type": "stream",
     "text": [
      "The number of records for patients who showed up for their appointments is:  88050\n",
      "The number of records for patients who did not show up for their appointments is:  22278\n"
     ]
    }
   ],
   "source": [
    "df_Show = df.copy() #Making copy of our dataframe fpr patients who actually showed up.\n",
    "df_Show = df[df['No_Show'] == 'No']\n",
    "print('The number of records for patients who showed up for their appointments is: ' , df_Show['No_Show'].size)\n",
    "\n",
    "df_No_Show = df.copy() # Making copy of our dataframe for patients who did not show up.\n",
    "df_No_Show = df[df['No_Show'] == 'Yes']\n",
    "print('The number of records for patients who did not show up for their appointments is: ' , df_No_Show['No_Show'].size)\n",
    "\n"
   ]
  },
  {
   "cell_type": "markdown",
   "metadata": {},
   "source": [
    "\n",
    "\n",
    "### 1- What factors are important for us to know in order to predict if a patient will show up for their scheduled appointment?\n"
   ]
  },
  {
   "cell_type": "code",
   "execution_count": 128,
   "metadata": {},
   "outputs": [
    {
     "data": {
      "text/plain": [
       "<AxesSubplot:title={'center':'Gender of patients who showed up to their appointments'}, ylabel='Count'>"
      ]
     },
     "execution_count": 128,
     "metadata": {},
     "output_type": "execute_result"
    },
    {
     "data": {
      "image/png": "[encoded data removed]",
      "text/plain": [
       "<Figure size 432x288 with 1 Axes>"
      ]
     },
     "metadata": {
      "needs_background": "light"
     },
     "output_type": "display_data"
    }
   ],
   "source": [
    "df_Show['Gender'].value_counts().plot(kind='bar',ylabel='Count', \n",
    "                                            title='Gender of patients who showed up to their appointments') \n",
    "#Most patients who show up for their appointments are female, around 56,000"
   ]
  },
  {
   "cell_type": "code",
   "execution_count": 129,
   "metadata": {},
   "outputs": [
    {
     "data": {
      "text/plain": [
       "<AxesSubplot:title={'center':'Patients who received SMS for their appointments'}, ylabel='Count'>"
      ]
     },
     "execution_count": 129,
     "metadata": {},
     "output_type": "execute_result"
    },
    {
     "data": {
      "image/png": "[encoded data removed]",
      "text/plain": [
       "<Figure size 432x288 with 1 Axes>"
      ]
     },
     "metadata": {
      "needs_background": "light"
     },
     "output_type": "display_data"
    }
   ],
   "source": [
    "df_Show['SMS_received'].value_counts().plot(kind='bar',ylabel='Count',\n",
    "                                           title='Patients who received SMS for their appointments')\n",
    "\n",
    "# Most people who showed up to the appointment did not receive SMS (61,000)"
   ]
  },
  {
   "cell_type": "code",
   "execution_count": 130,
   "metadata": {},
   "outputs": [
    {
     "data": {
      "text/plain": [
       "<AxesSubplot:title={'center':'Patients who showed up and diagnosed with Hipertension '}, ylabel='Count'>"
      ]
     },
     "execution_count": 130,
     "metadata": {},
     "output_type": "execute_result"
    },
    {
     "data": {
      "image/png": "[encoded data removed]",
      "text/plain": [
       "<Figure size 432x288 with 1 Axes>"
      ]
     },
     "metadata": {
      "needs_background": "light"
     },
     "output_type": "display_data"
    }
   ],
   "source": [
    "df_Show['Hipertension'].value_counts().plot(kind='bar',ylabel='Count',\n",
    "                                           title='Patients who showed up and diagnosed with Hipertension ')\n",
    "\n",
    "#Most people who showed up are not diagnosed with Hopertension (70,000 Patients) compared to Hipertension patients(20,000)"
   ]
  },
  {
   "cell_type": "code",
   "execution_count": 131,
   "metadata": {},
   "outputs": [
    {
     "data": {
      "text/plain": [
       "<AxesSubplot:title={'center':'Patients who showed up and signed up for scholarship '}, ylabel='Count'>"
      ]
     },
     "execution_count": 131,
     "metadata": {},
     "output_type": "execute_result"
    },
    {
     "data": {
      "image/png": "[encoded data removed]",
      "text/plain": [
       "<Figure size 432x288 with 1 Axes>"
      ]
     },
     "metadata": {
      "needs_background": "light"
     },
     "output_type": "display_data"
    }
   ],
   "source": [
    "df_Show['Scholarship'].value_counts().plot(kind='bar',ylabel='Count',\n",
    "                                           title='Patients who showed up and signed up for scholarship ')\n",
    "\n",
    "# 90% of the patients showed up to their appointments are not signed up to the 'Bolsa Familia program'"
   ]
  },
  {
   "cell_type": "code",
   "execution_count": 132,
   "metadata": {},
   "outputs": [
    {
     "data": {
      "text/plain": [
       "<AxesSubplot:title={'center':'Patients who showed up and diagnosed with Diabetes '}, ylabel='Count'>"
      ]
     },
     "execution_count": 132,
     "metadata": {},
     "output_type": "execute_result"
    },
    {
     "data": {
      "image/png": "[encoded data removed]",
      "text/plain": [
       "<Figure size 432x288 with 1 Axes>"
      ]
     },
     "metadata": {
      "needs_background": "light"
     },
     "output_type": "display_data"
    }
   ],
   "source": [
    "df_Show['Diabetes'].value_counts().plot(kind='bar',ylabel='Count',\n",
    "                                           title='Patients who showed up and diagnosed with Diabetes ')\n",
    "\n",
    "# 90% of the patients showed up to their appointments are bot diagnosed with Diabetes"
   ]
  },
  {
   "cell_type": "code",
   "execution_count": 133,
   "metadata": {},
   "outputs": [
    {
     "data": {
      "text/plain": [
       "<AxesSubplot:title={'center':'Patients who showed up and Handicapped '}, ylabel='Count'>"
      ]
     },
     "execution_count": 133,
     "metadata": {},
     "output_type": "execute_result"
    },
    {
     "data": {
      "image/png": "[encoded data removed]",
      "text/plain": [
       "<Figure size 432x288 with 1 Axes>"
      ]
     },
     "metadata": {
      "needs_background": "light"
     },
     "output_type": "display_data"
    }
   ],
   "source": [
    "df_Show['Handicap'].value_counts().plot(kind='bar',ylabel='Count',\n",
    "                                           title='Patients who showed up and Handicapped ')\n",
    "\n",
    "# Most patients are not handicapped (90,000)"
   ]
  },
  {
   "cell_type": "code",
   "execution_count": 134,
   "metadata": {},
   "outputs": [
    {
     "data": {
      "text/plain": [
       "<AxesSubplot:title={'center':'Most Neighbourhoods with patients who showed up '}, ylabel='Count'>"
      ]
     },
     "execution_count": 134,
     "metadata": {},
     "output_type": "execute_result"
    },
    {
     "data": {
      "image/png": "[encoded data removed]",
      "text/plain": [
       "<Figure size 1440x288 with 1 Axes>"
      ]
     },
     "metadata": {
      "needs_background": "light"
     },
     "output_type": "display_data"
    }
   ],
   "source": [
    "df_Show['Neighbourhood'].value_counts().plot(kind='bar',ylabel='Count',alpha=0.5,color='red',\n",
    "                                           title='Most Neighbourhoods with patients who showed up ', figsize=(20,4))\n",
    "\n",
    "# Jardim Camburi and Maria Ortiz are the most Neighbourhoods where the patients show up to their appointments"
   ]
  },
  {
   "cell_type": "code",
   "execution_count": 135,
   "metadata": {},
   "outputs": [
    {
     "data": {
      "text/plain": [
       "<AxesSubplot:title={'center':'Patients who showed up and Alcoholic '}, ylabel='Count'>"
      ]
     },
     "execution_count": 135,
     "metadata": {},
     "output_type": "execute_result"
    },
    {
     "data": {
      "image/png": "[encoded data removed]",
      "text/plain": [
       "<Figure size 432x288 with 1 Axes>"
      ]
     },
     "metadata": {
      "needs_background": "light"
     },
     "output_type": "display_data"
    }
   ],
   "source": [
    "df_Show['Alcoholism'].value_counts().plot(kind='bar',ylabel='Count',\n",
    "                                           title='Patients who showed up and Alcoholic ')\n",
    "\n",
    "# 90% of the patients are not alcoholic"
   ]
  },
  {
   "cell_type": "code",
   "execution_count": 136,
   "metadata": {},
   "outputs": [
    {
     "data": {
      "text/plain": [
       "<AxesSubplot:title={'center':'Most Age groups who showed up '}, ylabel='Count'>"
      ]
     },
     "execution_count": 136,
     "metadata": {},
     "output_type": "execute_result"
    },
    {
     "data": {
      "image/png": "[encoded data removed]",
      "text/plain": [
       "<Figure size 1440x288 with 1 Axes>"
      ]
     },
     "metadata": {
      "needs_background": "light"
     },
     "output_type": "display_data"
    }
   ],
   "source": [
    "df_Show['Age'].value_counts().plot(kind='bar',ylabel='Count',\n",
    "                                           title='Most Age groups who showed up ', figsize=(20,4))\n",
    "\n",
    "# 90% of the patients are not alcoholic"
   ]
  },
  {
   "cell_type": "markdown",
   "metadata": {},
   "source": [
    "To answer the question of \"What factors are important for us to know in order to predict if a patient will show up for their scheduled appointment?\", I guess the factors are as follows:\n",
    "\n",
    "1- Female patients as well the 0 age group (babies) are the most in terms of attending their appointment, so we can deduce that the female babies are the largest sector of our Show-up patients.\n",
    "\n",
    "2- SMS has no obvious effect in attending the appointments, most patients (90%) attend whether they received a SMS or not.\n",
    "\n",
    "3- There is high possibility that patients from Jardim Camburi and Maria Ortiz neighbourhoods do show up for thei appointments.\n",
    "\n"
   ]
  },
  {
   "cell_type": "markdown",
   "metadata": {},
   "source": [
    "### 2- Do conditions like Diabetes, Handicap and Hipertension prevent patients from attending the appointments?"
   ]
  },
  {
   "cell_type": "code",
   "execution_count": 137,
   "metadata": {},
   "outputs": [
    {
     "name": "stdout",
     "output_type": "stream",
     "text": [
      "The no of patients who Diabetes prevented them for attending their appointment =  1422\n",
      "The no of patients who their Handicap condition prevented them for attending their appointment =  366\n",
      "The no of patients who Hipertension prevented them for attending their appointment =  3748\n",
      "Percentage of Hipertension patients who did not show up =  16.823772331448065\n"
     ]
    }
   ],
   "source": [
    "# Analyzing the df_No_Show dataframe, we will analyze the reasons which\n",
    "#prevented some patients from attending their appointments.\n",
    "\n",
    "df_Diabetes = df_No_Show[df_No_Show['Diabetes'] == 1]\n",
    "print('The no of patients who Diabetes prevented them for attending their appointment = ', df_Diabetes.Patient_ID.size)\n",
    "\n",
    "df_Handicap = df_No_Show[df_No_Show['Handicap'] == 1]\n",
    "print('The no of patients who their Handicap condition prevented them for attending their appointment = ', df_Handicap.Patient_ID.size)\n",
    "\n",
    "df_Hipertension = df_No_Show[df_No_Show['Hipertension'] == 1]\n",
    "print('The no of patients who Hipertension prevented them for attending their appointment = ',df_Hipertension.Patient_ID.size)\n",
    "\n",
    "print('Percentage of Hipertension patients who did not show up = ' ,\n",
    "      (df_Hipertension.Patient_ID.size/ df_No_Show.Patient_ID.size)*100)"
   ]
  },
  {
   "cell_type": "markdown",
   "metadata": {},
   "source": [
    "Actually, It seems none of the mentioned above conditions has big effect in preventing the patients from attending their appointments as we checked the patients who did not show and Hypetension was in lead with 3748 case which is approximately 17% of the total No-show patients."
   ]
  },
  {
   "cell_type": "markdown",
   "metadata": {},
   "source": [
    "<a id='conclusions'></a>\n",
    "## Conclusions\n",
    "\n",
    "> It seems that the Age, Neigbourhood and Gender are the leading features to predict if a patient will show up to his appointment or not"
   ]
  },
  {
   "cell_type": "code",
   "execution_count": null,
   "metadata": {},
   "outputs": [],
   "source": []
  }
 ],
 "metadata": {
  "kernelspec": {
   "display_name": "Python 3",
   "language": "python",
   "name": "python3"
  },
  "language_info": {
   "codemirror_mode": {
    "name": "ipython",
    "version": 3
   },
   "file_extension": ".py",
   "mimetype": "text/x-python",
   "name": "python",
   "nbconvert_exporter": "python",
   "pygments_lexer": "ipython3",
   "version": "3.8.5"
  }
 },
 "nbformat": 4,
 "nbformat_minor": 2
}
